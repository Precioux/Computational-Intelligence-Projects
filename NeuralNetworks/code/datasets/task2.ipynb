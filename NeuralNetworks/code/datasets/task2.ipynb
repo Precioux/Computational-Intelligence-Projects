{
 "cells": [
  {
   "cell_type": "markdown",
   "metadata": {
    "collapsed": true,
    "pycharm": {
     "name": "#%% md\n"
    }
   },
   "source": [
    "# Recognizing 2 and 5 in MNIST Dataset"
   ]
  },
  {
   "cell_type": "code",
   "execution_count": 85,
   "outputs": [
    {
     "name": "stdout",
     "output_type": "stream",
     "text": [
      "libs imported successfully!\n"
     ]
    }
   ],
   "source": [
    "import os\n",
    "import matplotlib.pyplot as plt\n",
    "from matplotlib.image import imread\n",
    "import numpy as np\n",
    "import pandas as pd\n",
    "from sklearn.model_selection import train_test_split\n",
    "from NeuralNetworks.code.layers.fullyconnected import FC\n",
    "from NeuralNetworks.code.layers.convolution2d import Conv2D\n",
    "from NeuralNetworks.code.layers.maxpooling2d import MaxPool2D\n",
    "from NeuralNetworks.code.activations.activations import get_activation\n",
    "from NeuralNetworks.code.losses.meansquarederror import MeanSquaredError\n",
    "from NeuralNetworks.code.losses.binarycrossentropy import BinaryCrossEntropy\n",
    "from NeuralNetworks.code.models.model import Model\n",
    "from NeuralNetworks.code.optimizers.adam import Adam\n",
    "from NeuralNetworks.code.optimizers.gradientdescent import GD\n",
    "\n",
    "print('libs imported successfully!')"
   ],
   "metadata": {
    "collapsed": false,
    "pycharm": {
     "name": "#%%\n"
    }
   }
  },
  {
   "cell_type": "markdown",
   "source": [
    "## Data loading\n",
    "importing images"
   ],
   "metadata": {
    "collapsed": false
   }
  },
  {
   "cell_type": "code",
   "execution_count": 62,
   "outputs": [
    {
     "name": "stdout",
     "output_type": "stream",
     "text": [
      "MNIST folder path: C:\\Users\\Samin\\Desktop\\University\\Term 7\\Computational Intelligence\\Projects\\NeuralNetworks\\code\\datasets\\MNIST\n"
     ]
    }
   ],
   "source": [
    "\n",
    "current_directory = os.getcwd()\n",
    "mnist_folder = os.path.join(current_directory, \"MNIST\")\n",
    "\n",
    "print(\"MNIST folder path:\", mnist_folder)"
   ],
   "metadata": {
    "collapsed": false,
    "pycharm": {
     "name": "#%%\n"
    }
   }
  },
  {
   "cell_type": "code",
   "execution_count": 63,
   "outputs": [
    {
     "name": "stdout",
     "output_type": "stream",
     "text": [
      "Opening folder 2\n",
      "Opening folder 5\n",
      "Done\n"
     ]
    }
   ],
   "source": [
    "image_paths = []\n",
    "for folder_name in os.listdir(mnist_folder):\n",
    "    print(f'Opening folder {folder_name}')\n",
    "    folder_path = os.path.join(mnist_folder, folder_name)\n",
    "    if os.path.isdir(folder_path):\n",
    "        image_paths.extend([os.path.join(folder_path, file_name) for file_name in os.listdir(folder_path)])\n",
    "    else:\n",
    "        print(f\"{folder_path} is not a directory.\")\n",
    "print('Done')"
   ],
   "metadata": {
    "collapsed": false,
    "pycharm": {
     "name": "#%%\n"
    }
   }
  },
  {
   "cell_type": "code",
   "execution_count": 64,
   "outputs": [],
   "source": [
    "data = []\n",
    "labels = []"
   ],
   "metadata": {
    "collapsed": false,
    "pycharm": {
     "name": "#%%\n"
    }
   }
  },
  {
   "cell_type": "code",
   "execution_count": 65,
   "outputs": [],
   "source": [
    "def load_images_and_labels(image_paths):\n",
    "    for image_path in image_paths:\n",
    "        image = imread(image_path)\n",
    "        if int(os.path.basename(os.path.dirname(image_path))) == 2:\n",
    "           label = 0\n",
    "        else:\n",
    "           label = 1\n",
    "           # Assuming the parent folder name represents the label\n",
    "        data.append(image)\n",
    "        labels.append(label)\n",
    "    print('Images loaded and labeled successfully')"
   ],
   "metadata": {
    "collapsed": false,
    "pycharm": {
     "name": "#%%\n"
    }
   }
  },
  {
   "cell_type": "code",
   "execution_count": 66,
   "outputs": [
    {
     "name": "stdout",
     "output_type": "stream",
     "text": [
      "Images loaded and labeled successfully\n"
     ]
    }
   ],
   "source": [
    "load_images_and_labels(image_paths)"
   ],
   "metadata": {
    "collapsed": false,
    "pycharm": {
     "name": "#%%\n"
    }
   }
  },
  {
   "cell_type": "markdown",
   "source": [
    "### Converting to dataset"
   ],
   "metadata": {
    "collapsed": false,
    "pycharm": {
     "name": "#%% md\n"
    }
   }
  },
  {
   "cell_type": "code",
   "execution_count": 67,
   "outputs": [],
   "source": [
    "data = np.array(data)\n",
    "labels = np.array(labels)"
   ],
   "metadata": {
    "collapsed": false,
    "pycharm": {
     "name": "#%%\n"
    }
   }
  },
  {
   "cell_type": "code",
   "execution_count": 68,
   "outputs": [
    {
     "data": {
      "text/plain": "(2000, 28, 28)"
     },
     "execution_count": 68,
     "metadata": {},
     "output_type": "execute_result"
    }
   ],
   "source": [
    "data.shape"
   ],
   "metadata": {
    "collapsed": false,
    "pycharm": {
     "name": "#%%\n"
    }
   }
  },
  {
   "cell_type": "code",
   "execution_count": 69,
   "outputs": [
    {
     "data": {
      "text/plain": "(2000,)"
     },
     "execution_count": 69,
     "metadata": {},
     "output_type": "execute_result"
    }
   ],
   "source": [
    "labels.shape"
   ],
   "metadata": {
    "collapsed": false,
    "pycharm": {
     "name": "#%%\n"
    }
   }
  },
  {
   "cell_type": "code",
   "execution_count": 70,
   "outputs": [],
   "source": [
    "flattened_data = data.reshape(data.shape[0], -1)  # Reshape to (2000, 784)"
   ],
   "metadata": {
    "collapsed": false,
    "pycharm": {
     "name": "#%%\n"
    }
   }
  },
  {
   "cell_type": "code",
   "execution_count": 71,
   "outputs": [],
   "source": [
    "dataset = np.column_stack((flattened_data, labels))\n"
   ],
   "metadata": {
    "collapsed": false,
    "pycharm": {
     "name": "#%%\n"
    }
   }
  },
  {
   "cell_type": "code",
   "execution_count": 72,
   "outputs": [],
   "source": [
    "df = pd.DataFrame(dataset, columns=[f\"pixel_{i}\" for i in range(flattened_data.shape[1])] + [\"label\"])\n"
   ],
   "metadata": {
    "collapsed": false,
    "pycharm": {
     "name": "#%%\n"
    }
   }
  },
  {
   "cell_type": "code",
   "execution_count": 73,
   "outputs": [
    {
     "ename": "PermissionError",
     "evalue": "[Errno 13] Permission denied: 'mnist_dataset.csv'",
     "output_type": "error",
     "traceback": [
      "\u001B[1;31m---------------------------------------------------------------------------\u001B[0m",
      "\u001B[1;31mPermissionError\u001B[0m                           Traceback (most recent call last)",
      "Cell \u001B[1;32mIn[73], line 1\u001B[0m\n\u001B[1;32m----> 1\u001B[0m \u001B[43mdf\u001B[49m\u001B[38;5;241;43m.\u001B[39;49m\u001B[43mto_csv\u001B[49m\u001B[43m(\u001B[49m\u001B[38;5;124;43m\"\u001B[39;49m\u001B[38;5;124;43mmnist_dataset.csv\u001B[39;49m\u001B[38;5;124;43m\"\u001B[39;49m\u001B[43m,\u001B[49m\u001B[43m \u001B[49m\u001B[43mindex\u001B[49m\u001B[38;5;241;43m=\u001B[39;49m\u001B[38;5;28;43;01mFalse\u001B[39;49;00m\u001B[43m)\u001B[49m\n",
      "File \u001B[1;32m~\\PycharmProjects\\HelloWorld\\venv\\lib\\site-packages\\pandas\\core\\generic.py:3772\u001B[0m, in \u001B[0;36mNDFrame.to_csv\u001B[1;34m(self, path_or_buf, sep, na_rep, float_format, columns, header, index, index_label, mode, encoding, compression, quoting, quotechar, lineterminator, chunksize, date_format, doublequote, escapechar, decimal, errors, storage_options)\u001B[0m\n\u001B[0;32m   3761\u001B[0m df \u001B[38;5;241m=\u001B[39m \u001B[38;5;28mself\u001B[39m \u001B[38;5;28;01mif\u001B[39;00m \u001B[38;5;28misinstance\u001B[39m(\u001B[38;5;28mself\u001B[39m, ABCDataFrame) \u001B[38;5;28;01melse\u001B[39;00m \u001B[38;5;28mself\u001B[39m\u001B[38;5;241m.\u001B[39mto_frame()\n\u001B[0;32m   3763\u001B[0m formatter \u001B[38;5;241m=\u001B[39m DataFrameFormatter(\n\u001B[0;32m   3764\u001B[0m     frame\u001B[38;5;241m=\u001B[39mdf,\n\u001B[0;32m   3765\u001B[0m     header\u001B[38;5;241m=\u001B[39mheader,\n\u001B[1;32m   (...)\u001B[0m\n\u001B[0;32m   3769\u001B[0m     decimal\u001B[38;5;241m=\u001B[39mdecimal,\n\u001B[0;32m   3770\u001B[0m )\n\u001B[1;32m-> 3772\u001B[0m \u001B[38;5;28;01mreturn\u001B[39;00m \u001B[43mDataFrameRenderer\u001B[49m\u001B[43m(\u001B[49m\u001B[43mformatter\u001B[49m\u001B[43m)\u001B[49m\u001B[38;5;241;43m.\u001B[39;49m\u001B[43mto_csv\u001B[49m\u001B[43m(\u001B[49m\n\u001B[0;32m   3773\u001B[0m \u001B[43m    \u001B[49m\u001B[43mpath_or_buf\u001B[49m\u001B[43m,\u001B[49m\n\u001B[0;32m   3774\u001B[0m \u001B[43m    \u001B[49m\u001B[43mlineterminator\u001B[49m\u001B[38;5;241;43m=\u001B[39;49m\u001B[43mlineterminator\u001B[49m\u001B[43m,\u001B[49m\n\u001B[0;32m   3775\u001B[0m \u001B[43m    \u001B[49m\u001B[43msep\u001B[49m\u001B[38;5;241;43m=\u001B[39;49m\u001B[43msep\u001B[49m\u001B[43m,\u001B[49m\n\u001B[0;32m   3776\u001B[0m \u001B[43m    \u001B[49m\u001B[43mencoding\u001B[49m\u001B[38;5;241;43m=\u001B[39;49m\u001B[43mencoding\u001B[49m\u001B[43m,\u001B[49m\n\u001B[0;32m   3777\u001B[0m \u001B[43m    \u001B[49m\u001B[43merrors\u001B[49m\u001B[38;5;241;43m=\u001B[39;49m\u001B[43merrors\u001B[49m\u001B[43m,\u001B[49m\n\u001B[0;32m   3778\u001B[0m \u001B[43m    \u001B[49m\u001B[43mcompression\u001B[49m\u001B[38;5;241;43m=\u001B[39;49m\u001B[43mcompression\u001B[49m\u001B[43m,\u001B[49m\n\u001B[0;32m   3779\u001B[0m \u001B[43m    \u001B[49m\u001B[43mquoting\u001B[49m\u001B[38;5;241;43m=\u001B[39;49m\u001B[43mquoting\u001B[49m\u001B[43m,\u001B[49m\n\u001B[0;32m   3780\u001B[0m \u001B[43m    \u001B[49m\u001B[43mcolumns\u001B[49m\u001B[38;5;241;43m=\u001B[39;49m\u001B[43mcolumns\u001B[49m\u001B[43m,\u001B[49m\n\u001B[0;32m   3781\u001B[0m \u001B[43m    \u001B[49m\u001B[43mindex_label\u001B[49m\u001B[38;5;241;43m=\u001B[39;49m\u001B[43mindex_label\u001B[49m\u001B[43m,\u001B[49m\n\u001B[0;32m   3782\u001B[0m \u001B[43m    \u001B[49m\u001B[43mmode\u001B[49m\u001B[38;5;241;43m=\u001B[39;49m\u001B[43mmode\u001B[49m\u001B[43m,\u001B[49m\n\u001B[0;32m   3783\u001B[0m \u001B[43m    \u001B[49m\u001B[43mchunksize\u001B[49m\u001B[38;5;241;43m=\u001B[39;49m\u001B[43mchunksize\u001B[49m\u001B[43m,\u001B[49m\n\u001B[0;32m   3784\u001B[0m \u001B[43m    \u001B[49m\u001B[43mquotechar\u001B[49m\u001B[38;5;241;43m=\u001B[39;49m\u001B[43mquotechar\u001B[49m\u001B[43m,\u001B[49m\n\u001B[0;32m   3785\u001B[0m \u001B[43m    \u001B[49m\u001B[43mdate_format\u001B[49m\u001B[38;5;241;43m=\u001B[39;49m\u001B[43mdate_format\u001B[49m\u001B[43m,\u001B[49m\n\u001B[0;32m   3786\u001B[0m \u001B[43m    \u001B[49m\u001B[43mdoublequote\u001B[49m\u001B[38;5;241;43m=\u001B[39;49m\u001B[43mdoublequote\u001B[49m\u001B[43m,\u001B[49m\n\u001B[0;32m   3787\u001B[0m \u001B[43m    \u001B[49m\u001B[43mescapechar\u001B[49m\u001B[38;5;241;43m=\u001B[39;49m\u001B[43mescapechar\u001B[49m\u001B[43m,\u001B[49m\n\u001B[0;32m   3788\u001B[0m \u001B[43m    \u001B[49m\u001B[43mstorage_options\u001B[49m\u001B[38;5;241;43m=\u001B[39;49m\u001B[43mstorage_options\u001B[49m\u001B[43m,\u001B[49m\n\u001B[0;32m   3789\u001B[0m \u001B[43m\u001B[49m\u001B[43m)\u001B[49m\n",
      "File \u001B[1;32m~\\PycharmProjects\\HelloWorld\\venv\\lib\\site-packages\\pandas\\io\\formats\\format.py:1186\u001B[0m, in \u001B[0;36mDataFrameRenderer.to_csv\u001B[1;34m(self, path_or_buf, encoding, sep, columns, index_label, mode, compression, quoting, quotechar, lineterminator, chunksize, date_format, doublequote, escapechar, errors, storage_options)\u001B[0m\n\u001B[0;32m   1165\u001B[0m     created_buffer \u001B[38;5;241m=\u001B[39m \u001B[38;5;28;01mFalse\u001B[39;00m\n\u001B[0;32m   1167\u001B[0m csv_formatter \u001B[38;5;241m=\u001B[39m CSVFormatter(\n\u001B[0;32m   1168\u001B[0m     path_or_buf\u001B[38;5;241m=\u001B[39mpath_or_buf,\n\u001B[0;32m   1169\u001B[0m     lineterminator\u001B[38;5;241m=\u001B[39mlineterminator,\n\u001B[1;32m   (...)\u001B[0m\n\u001B[0;32m   1184\u001B[0m     formatter\u001B[38;5;241m=\u001B[39m\u001B[38;5;28mself\u001B[39m\u001B[38;5;241m.\u001B[39mfmt,\n\u001B[0;32m   1185\u001B[0m )\n\u001B[1;32m-> 1186\u001B[0m \u001B[43mcsv_formatter\u001B[49m\u001B[38;5;241;43m.\u001B[39;49m\u001B[43msave\u001B[49m\u001B[43m(\u001B[49m\u001B[43m)\u001B[49m\n\u001B[0;32m   1188\u001B[0m \u001B[38;5;28;01mif\u001B[39;00m created_buffer:\n\u001B[0;32m   1189\u001B[0m     \u001B[38;5;28;01massert\u001B[39;00m \u001B[38;5;28misinstance\u001B[39m(path_or_buf, StringIO)\n",
      "File \u001B[1;32m~\\PycharmProjects\\HelloWorld\\venv\\lib\\site-packages\\pandas\\io\\formats\\csvs.py:240\u001B[0m, in \u001B[0;36mCSVFormatter.save\u001B[1;34m(self)\u001B[0m\n\u001B[0;32m    236\u001B[0m \u001B[38;5;250m\u001B[39m\u001B[38;5;124;03m\"\"\"\u001B[39;00m\n\u001B[0;32m    237\u001B[0m \u001B[38;5;124;03mCreate the writer & save.\u001B[39;00m\n\u001B[0;32m    238\u001B[0m \u001B[38;5;124;03m\"\"\"\u001B[39;00m\n\u001B[0;32m    239\u001B[0m \u001B[38;5;66;03m# apply compression and byte/text conversion\u001B[39;00m\n\u001B[1;32m--> 240\u001B[0m \u001B[38;5;28;01mwith\u001B[39;00m \u001B[43mget_handle\u001B[49m\u001B[43m(\u001B[49m\n\u001B[0;32m    241\u001B[0m \u001B[43m    \u001B[49m\u001B[38;5;28;43mself\u001B[39;49m\u001B[38;5;241;43m.\u001B[39;49m\u001B[43mfilepath_or_buffer\u001B[49m\u001B[43m,\u001B[49m\n\u001B[0;32m    242\u001B[0m \u001B[43m    \u001B[49m\u001B[38;5;28;43mself\u001B[39;49m\u001B[38;5;241;43m.\u001B[39;49m\u001B[43mmode\u001B[49m\u001B[43m,\u001B[49m\n\u001B[0;32m    243\u001B[0m \u001B[43m    \u001B[49m\u001B[43mencoding\u001B[49m\u001B[38;5;241;43m=\u001B[39;49m\u001B[38;5;28;43mself\u001B[39;49m\u001B[38;5;241;43m.\u001B[39;49m\u001B[43mencoding\u001B[49m\u001B[43m,\u001B[49m\n\u001B[0;32m    244\u001B[0m \u001B[43m    \u001B[49m\u001B[43merrors\u001B[49m\u001B[38;5;241;43m=\u001B[39;49m\u001B[38;5;28;43mself\u001B[39;49m\u001B[38;5;241;43m.\u001B[39;49m\u001B[43merrors\u001B[49m\u001B[43m,\u001B[49m\n\u001B[0;32m    245\u001B[0m \u001B[43m    \u001B[49m\u001B[43mcompression\u001B[49m\u001B[38;5;241;43m=\u001B[39;49m\u001B[38;5;28;43mself\u001B[39;49m\u001B[38;5;241;43m.\u001B[39;49m\u001B[43mcompression\u001B[49m\u001B[43m,\u001B[49m\n\u001B[0;32m    246\u001B[0m \u001B[43m    \u001B[49m\u001B[43mstorage_options\u001B[49m\u001B[38;5;241;43m=\u001B[39;49m\u001B[38;5;28;43mself\u001B[39;49m\u001B[38;5;241;43m.\u001B[39;49m\u001B[43mstorage_options\u001B[49m\u001B[43m,\u001B[49m\n\u001B[0;32m    247\u001B[0m \u001B[43m\u001B[49m\u001B[43m)\u001B[49m \u001B[38;5;28;01mas\u001B[39;00m handles:\n\u001B[0;32m    248\u001B[0m     \u001B[38;5;66;03m# Note: self.encoding is irrelevant here\u001B[39;00m\n\u001B[0;32m    249\u001B[0m     \u001B[38;5;28mself\u001B[39m\u001B[38;5;241m.\u001B[39mwriter \u001B[38;5;241m=\u001B[39m csvlib\u001B[38;5;241m.\u001B[39mwriter(\n\u001B[0;32m    250\u001B[0m         handles\u001B[38;5;241m.\u001B[39mhandle,\n\u001B[0;32m    251\u001B[0m         lineterminator\u001B[38;5;241m=\u001B[39m\u001B[38;5;28mself\u001B[39m\u001B[38;5;241m.\u001B[39mlineterminator,\n\u001B[1;32m   (...)\u001B[0m\n\u001B[0;32m    256\u001B[0m         quotechar\u001B[38;5;241m=\u001B[39m\u001B[38;5;28mself\u001B[39m\u001B[38;5;241m.\u001B[39mquotechar,\n\u001B[0;32m    257\u001B[0m     )\n\u001B[0;32m    259\u001B[0m     \u001B[38;5;28mself\u001B[39m\u001B[38;5;241m.\u001B[39m_save()\n",
      "File \u001B[1;32m~\\PycharmProjects\\HelloWorld\\venv\\lib\\site-packages\\pandas\\io\\common.py:859\u001B[0m, in \u001B[0;36mget_handle\u001B[1;34m(path_or_buf, mode, encoding, compression, memory_map, is_text, errors, storage_options)\u001B[0m\n\u001B[0;32m    854\u001B[0m \u001B[38;5;28;01melif\u001B[39;00m \u001B[38;5;28misinstance\u001B[39m(handle, \u001B[38;5;28mstr\u001B[39m):\n\u001B[0;32m    855\u001B[0m     \u001B[38;5;66;03m# Check whether the filename is to be opened in binary mode.\u001B[39;00m\n\u001B[0;32m    856\u001B[0m     \u001B[38;5;66;03m# Binary mode does not support 'encoding' and 'newline'.\u001B[39;00m\n\u001B[0;32m    857\u001B[0m     \u001B[38;5;28;01mif\u001B[39;00m ioargs\u001B[38;5;241m.\u001B[39mencoding \u001B[38;5;129;01mand\u001B[39;00m \u001B[38;5;124m\"\u001B[39m\u001B[38;5;124mb\u001B[39m\u001B[38;5;124m\"\u001B[39m \u001B[38;5;129;01mnot\u001B[39;00m \u001B[38;5;129;01min\u001B[39;00m ioargs\u001B[38;5;241m.\u001B[39mmode:\n\u001B[0;32m    858\u001B[0m         \u001B[38;5;66;03m# Encoding\u001B[39;00m\n\u001B[1;32m--> 859\u001B[0m         handle \u001B[38;5;241m=\u001B[39m \u001B[38;5;28;43mopen\u001B[39;49m\u001B[43m(\u001B[49m\n\u001B[0;32m    860\u001B[0m \u001B[43m            \u001B[49m\u001B[43mhandle\u001B[49m\u001B[43m,\u001B[49m\n\u001B[0;32m    861\u001B[0m \u001B[43m            \u001B[49m\u001B[43mioargs\u001B[49m\u001B[38;5;241;43m.\u001B[39;49m\u001B[43mmode\u001B[49m\u001B[43m,\u001B[49m\n\u001B[0;32m    862\u001B[0m \u001B[43m            \u001B[49m\u001B[43mencoding\u001B[49m\u001B[38;5;241;43m=\u001B[39;49m\u001B[43mioargs\u001B[49m\u001B[38;5;241;43m.\u001B[39;49m\u001B[43mencoding\u001B[49m\u001B[43m,\u001B[49m\n\u001B[0;32m    863\u001B[0m \u001B[43m            \u001B[49m\u001B[43merrors\u001B[49m\u001B[38;5;241;43m=\u001B[39;49m\u001B[43merrors\u001B[49m\u001B[43m,\u001B[49m\n\u001B[0;32m    864\u001B[0m \u001B[43m            \u001B[49m\u001B[43mnewline\u001B[49m\u001B[38;5;241;43m=\u001B[39;49m\u001B[38;5;124;43m\"\u001B[39;49m\u001B[38;5;124;43m\"\u001B[39;49m\u001B[43m,\u001B[49m\n\u001B[0;32m    865\u001B[0m \u001B[43m        \u001B[49m\u001B[43m)\u001B[49m\n\u001B[0;32m    866\u001B[0m     \u001B[38;5;28;01melse\u001B[39;00m:\n\u001B[0;32m    867\u001B[0m         \u001B[38;5;66;03m# Binary mode\u001B[39;00m\n\u001B[0;32m    868\u001B[0m         handle \u001B[38;5;241m=\u001B[39m \u001B[38;5;28mopen\u001B[39m(handle, ioargs\u001B[38;5;241m.\u001B[39mmode)\n",
      "\u001B[1;31mPermissionError\u001B[0m: [Errno 13] Permission denied: 'mnist_dataset.csv'"
     ]
    }
   ],
   "source": [
    "df.to_csv(\"mnist_dataset.csv\", index=False)"
   ],
   "metadata": {
    "collapsed": false,
    "pycharm": {
     "name": "#%%\n"
    }
   }
  },
  {
   "cell_type": "markdown",
   "source": [
    "## Exploring dataset"
   ],
   "metadata": {
    "collapsed": false,
    "pycharm": {
     "name": "#%% md\n"
    }
   }
  },
  {
   "cell_type": "code",
   "execution_count": 87,
   "outputs": [
    {
     "name": "stdout",
     "output_type": "stream",
     "text": [
      "Number of rows: 2000\n",
      "Number of columns: 785\n"
     ]
    }
   ],
   "source": [
    "df = pd.read_csv(\"mnist_dataset.csv\")\n",
    "num_rows, num_cols = df.shape\n",
    "print(\"Number of rows:\", num_rows)\n",
    "print(\"Number of columns:\", num_cols)"
   ],
   "metadata": {
    "collapsed": false,
    "pycharm": {
     "name": "#%%\n"
    }
   }
  },
  {
   "cell_type": "code",
   "execution_count": 88,
   "outputs": [
    {
     "data": {
      "text/plain": "   pixel_0  pixel_1  pixel_2  pixel_3  pixel_4  pixel_5  pixel_6  pixel_7   \n0        3        0       10        0        0        3        0        2  \\\n1        0        0        0        0        0        0        0        0   \n2        0        0        0        0        0        0        0        0   \n3        0        0        0        0        0        0        0        0   \n4        0        0        0        0        0        0        0        0   \n\n   pixel_8  pixel_9  ...  pixel_775  pixel_776  pixel_777  pixel_778   \n0        7        0  ...          0          0          0          0  \\\n1        0        5  ...          0          0          0          0   \n2        7        0  ...          0          0          0          0   \n3        1        0  ...          0          0          0          0   \n4        0        4  ...          0          0          0          0   \n\n   pixel_779  pixel_780  pixel_781  pixel_782  pixel_783  label  \n0          0          0          0          0          0      0  \n1          0          0          0          0          0      0  \n2          0          0          0          0          0      0  \n3          0          0          0          0          0      0  \n4          0          0          0          0          0      0  \n\n[5 rows x 785 columns]",
      "text/html": "<div>\n<style scoped>\n    .dataframe tbody tr th:only-of-type {\n        vertical-align: middle;\n    }\n\n    .dataframe tbody tr th {\n        vertical-align: top;\n    }\n\n    .dataframe thead th {\n        text-align: right;\n    }\n</style>\n<table border=\"1\" class=\"dataframe\">\n  <thead>\n    <tr style=\"text-align: right;\">\n      <th></th>\n      <th>pixel_0</th>\n      <th>pixel_1</th>\n      <th>pixel_2</th>\n      <th>pixel_3</th>\n      <th>pixel_4</th>\n      <th>pixel_5</th>\n      <th>pixel_6</th>\n      <th>pixel_7</th>\n      <th>pixel_8</th>\n      <th>pixel_9</th>\n      <th>...</th>\n      <th>pixel_775</th>\n      <th>pixel_776</th>\n      <th>pixel_777</th>\n      <th>pixel_778</th>\n      <th>pixel_779</th>\n      <th>pixel_780</th>\n      <th>pixel_781</th>\n      <th>pixel_782</th>\n      <th>pixel_783</th>\n      <th>label</th>\n    </tr>\n  </thead>\n  <tbody>\n    <tr>\n      <th>0</th>\n      <td>3</td>\n      <td>0</td>\n      <td>10</td>\n      <td>0</td>\n      <td>0</td>\n      <td>3</td>\n      <td>0</td>\n      <td>2</td>\n      <td>7</td>\n      <td>0</td>\n      <td>...</td>\n      <td>0</td>\n      <td>0</td>\n      <td>0</td>\n      <td>0</td>\n      <td>0</td>\n      <td>0</td>\n      <td>0</td>\n      <td>0</td>\n      <td>0</td>\n      <td>0</td>\n    </tr>\n    <tr>\n      <th>1</th>\n      <td>0</td>\n      <td>0</td>\n      <td>0</td>\n      <td>0</td>\n      <td>0</td>\n      <td>0</td>\n      <td>0</td>\n      <td>0</td>\n      <td>0</td>\n      <td>5</td>\n      <td>...</td>\n      <td>0</td>\n      <td>0</td>\n      <td>0</td>\n      <td>0</td>\n      <td>0</td>\n      <td>0</td>\n      <td>0</td>\n      <td>0</td>\n      <td>0</td>\n      <td>0</td>\n    </tr>\n    <tr>\n      <th>2</th>\n      <td>0</td>\n      <td>0</td>\n      <td>0</td>\n      <td>0</td>\n      <td>0</td>\n      <td>0</td>\n      <td>0</td>\n      <td>0</td>\n      <td>7</td>\n      <td>0</td>\n      <td>...</td>\n      <td>0</td>\n      <td>0</td>\n      <td>0</td>\n      <td>0</td>\n      <td>0</td>\n      <td>0</td>\n      <td>0</td>\n      <td>0</td>\n      <td>0</td>\n      <td>0</td>\n    </tr>\n    <tr>\n      <th>3</th>\n      <td>0</td>\n      <td>0</td>\n      <td>0</td>\n      <td>0</td>\n      <td>0</td>\n      <td>0</td>\n      <td>0</td>\n      <td>0</td>\n      <td>1</td>\n      <td>0</td>\n      <td>...</td>\n      <td>0</td>\n      <td>0</td>\n      <td>0</td>\n      <td>0</td>\n      <td>0</td>\n      <td>0</td>\n      <td>0</td>\n      <td>0</td>\n      <td>0</td>\n      <td>0</td>\n    </tr>\n    <tr>\n      <th>4</th>\n      <td>0</td>\n      <td>0</td>\n      <td>0</td>\n      <td>0</td>\n      <td>0</td>\n      <td>0</td>\n      <td>0</td>\n      <td>0</td>\n      <td>0</td>\n      <td>4</td>\n      <td>...</td>\n      <td>0</td>\n      <td>0</td>\n      <td>0</td>\n      <td>0</td>\n      <td>0</td>\n      <td>0</td>\n      <td>0</td>\n      <td>0</td>\n      <td>0</td>\n      <td>0</td>\n    </tr>\n  </tbody>\n</table>\n<p>5 rows × 785 columns</p>\n</div>"
     },
     "execution_count": 88,
     "metadata": {},
     "output_type": "execute_result"
    }
   ],
   "source": [
    "df.head()"
   ],
   "metadata": {
    "collapsed": false,
    "pycharm": {
     "name": "#%%\n"
    }
   }
  },
  {
   "cell_type": "code",
   "execution_count": 89,
   "outputs": [
    {
     "data": {
      "text/plain": "          pixel_0      pixel_1      pixel_2      pixel_3      pixel_4   \ncount  2000.00000  2000.000000  2000.000000  2000.000000  2000.000000  \\\nmean      0.36350     0.463000     0.546500     0.349500     0.489000   \nstd       1.47833     1.829564     1.973014     1.511123     1.864301   \nmin       0.00000     0.000000     0.000000     0.000000     0.000000   \n25%       0.00000     0.000000     0.000000     0.000000     0.000000   \n50%       0.00000     0.000000     0.000000     0.000000     0.000000   \n75%       0.00000     0.000000     0.000000     0.000000     0.000000   \nmax      16.00000    17.000000    17.000000    18.000000    19.000000   \n\n           pixel_5      pixel_6    pixel_7      pixel_8      pixel_9  ...   \ncount  2000.000000  2000.000000  2000.0000  2000.000000  2000.000000  ...  \\\nmean      0.460500     0.410500     0.4355     1.917500     2.334500  ...   \nstd       1.882342     1.794882     1.6650     3.052434     3.964779  ...   \nmin       0.000000     0.000000     0.0000     0.000000     0.000000  ...   \n25%       0.000000     0.000000     0.0000     0.000000     0.000000  ...   \n50%       0.000000     0.000000     0.0000     0.000000     0.000000  ...   \n75%       0.000000     0.000000     0.0000     3.000000     3.000000  ...   \nmax      23.000000    31.000000    16.0000    18.000000    24.000000  ...   \n\n        pixel_775    pixel_776    pixel_777    pixel_778    pixel_779   \ncount  2000.00000  2000.000000  2000.000000  2000.000000  2000.000000  \\\nmean      0.21450     0.151000     0.281000     0.228000     0.209000   \nstd       1.25908     0.906427     1.381663     1.216041     1.215343   \nmin       0.00000     0.000000     0.000000     0.000000     0.000000   \n25%       0.00000     0.000000     0.000000     0.000000     0.000000   \n50%       0.00000     0.000000     0.000000     0.000000     0.000000   \n75%       0.00000     0.000000     0.000000     0.000000     0.000000   \nmax      20.00000    12.000000    19.000000    18.000000    16.000000   \n\n         pixel_780    pixel_781    pixel_782    pixel_783        label  \ncount  2000.000000  2000.000000  2000.000000  2000.000000  2000.000000  \nmean      0.004500     0.002500     0.003500     0.003500     0.500000  \nstd       0.201246     0.111803     0.156525     0.120395     0.500125  \nmin       0.000000     0.000000     0.000000     0.000000     0.000000  \n25%       0.000000     0.000000     0.000000     0.000000     0.000000  \n50%       0.000000     0.000000     0.000000     0.000000     0.500000  \n75%       0.000000     0.000000     0.000000     0.000000     1.000000  \nmax       9.000000     5.000000     7.000000     5.000000     1.000000  \n\n[8 rows x 785 columns]",
      "text/html": "<div>\n<style scoped>\n    .dataframe tbody tr th:only-of-type {\n        vertical-align: middle;\n    }\n\n    .dataframe tbody tr th {\n        vertical-align: top;\n    }\n\n    .dataframe thead th {\n        text-align: right;\n    }\n</style>\n<table border=\"1\" class=\"dataframe\">\n  <thead>\n    <tr style=\"text-align: right;\">\n      <th></th>\n      <th>pixel_0</th>\n      <th>pixel_1</th>\n      <th>pixel_2</th>\n      <th>pixel_3</th>\n      <th>pixel_4</th>\n      <th>pixel_5</th>\n      <th>pixel_6</th>\n      <th>pixel_7</th>\n      <th>pixel_8</th>\n      <th>pixel_9</th>\n      <th>...</th>\n      <th>pixel_775</th>\n      <th>pixel_776</th>\n      <th>pixel_777</th>\n      <th>pixel_778</th>\n      <th>pixel_779</th>\n      <th>pixel_780</th>\n      <th>pixel_781</th>\n      <th>pixel_782</th>\n      <th>pixel_783</th>\n      <th>label</th>\n    </tr>\n  </thead>\n  <tbody>\n    <tr>\n      <th>count</th>\n      <td>2000.00000</td>\n      <td>2000.000000</td>\n      <td>2000.000000</td>\n      <td>2000.000000</td>\n      <td>2000.000000</td>\n      <td>2000.000000</td>\n      <td>2000.000000</td>\n      <td>2000.0000</td>\n      <td>2000.000000</td>\n      <td>2000.000000</td>\n      <td>...</td>\n      <td>2000.00000</td>\n      <td>2000.000000</td>\n      <td>2000.000000</td>\n      <td>2000.000000</td>\n      <td>2000.000000</td>\n      <td>2000.000000</td>\n      <td>2000.000000</td>\n      <td>2000.000000</td>\n      <td>2000.000000</td>\n      <td>2000.000000</td>\n    </tr>\n    <tr>\n      <th>mean</th>\n      <td>0.36350</td>\n      <td>0.463000</td>\n      <td>0.546500</td>\n      <td>0.349500</td>\n      <td>0.489000</td>\n      <td>0.460500</td>\n      <td>0.410500</td>\n      <td>0.4355</td>\n      <td>1.917500</td>\n      <td>2.334500</td>\n      <td>...</td>\n      <td>0.21450</td>\n      <td>0.151000</td>\n      <td>0.281000</td>\n      <td>0.228000</td>\n      <td>0.209000</td>\n      <td>0.004500</td>\n      <td>0.002500</td>\n      <td>0.003500</td>\n      <td>0.003500</td>\n      <td>0.500000</td>\n    </tr>\n    <tr>\n      <th>std</th>\n      <td>1.47833</td>\n      <td>1.829564</td>\n      <td>1.973014</td>\n      <td>1.511123</td>\n      <td>1.864301</td>\n      <td>1.882342</td>\n      <td>1.794882</td>\n      <td>1.6650</td>\n      <td>3.052434</td>\n      <td>3.964779</td>\n      <td>...</td>\n      <td>1.25908</td>\n      <td>0.906427</td>\n      <td>1.381663</td>\n      <td>1.216041</td>\n      <td>1.215343</td>\n      <td>0.201246</td>\n      <td>0.111803</td>\n      <td>0.156525</td>\n      <td>0.120395</td>\n      <td>0.500125</td>\n    </tr>\n    <tr>\n      <th>min</th>\n      <td>0.00000</td>\n      <td>0.000000</td>\n      <td>0.000000</td>\n      <td>0.000000</td>\n      <td>0.000000</td>\n      <td>0.000000</td>\n      <td>0.000000</td>\n      <td>0.0000</td>\n      <td>0.000000</td>\n      <td>0.000000</td>\n      <td>...</td>\n      <td>0.00000</td>\n      <td>0.000000</td>\n      <td>0.000000</td>\n      <td>0.000000</td>\n      <td>0.000000</td>\n      <td>0.000000</td>\n      <td>0.000000</td>\n      <td>0.000000</td>\n      <td>0.000000</td>\n      <td>0.000000</td>\n    </tr>\n    <tr>\n      <th>25%</th>\n      <td>0.00000</td>\n      <td>0.000000</td>\n      <td>0.000000</td>\n      <td>0.000000</td>\n      <td>0.000000</td>\n      <td>0.000000</td>\n      <td>0.000000</td>\n      <td>0.0000</td>\n      <td>0.000000</td>\n      <td>0.000000</td>\n      <td>...</td>\n      <td>0.00000</td>\n      <td>0.000000</td>\n      <td>0.000000</td>\n      <td>0.000000</td>\n      <td>0.000000</td>\n      <td>0.000000</td>\n      <td>0.000000</td>\n      <td>0.000000</td>\n      <td>0.000000</td>\n      <td>0.000000</td>\n    </tr>\n    <tr>\n      <th>50%</th>\n      <td>0.00000</td>\n      <td>0.000000</td>\n      <td>0.000000</td>\n      <td>0.000000</td>\n      <td>0.000000</td>\n      <td>0.000000</td>\n      <td>0.000000</td>\n      <td>0.0000</td>\n      <td>0.000000</td>\n      <td>0.000000</td>\n      <td>...</td>\n      <td>0.00000</td>\n      <td>0.000000</td>\n      <td>0.000000</td>\n      <td>0.000000</td>\n      <td>0.000000</td>\n      <td>0.000000</td>\n      <td>0.000000</td>\n      <td>0.000000</td>\n      <td>0.000000</td>\n      <td>0.500000</td>\n    </tr>\n    <tr>\n      <th>75%</th>\n      <td>0.00000</td>\n      <td>0.000000</td>\n      <td>0.000000</td>\n      <td>0.000000</td>\n      <td>0.000000</td>\n      <td>0.000000</td>\n      <td>0.000000</td>\n      <td>0.0000</td>\n      <td>3.000000</td>\n      <td>3.000000</td>\n      <td>...</td>\n      <td>0.00000</td>\n      <td>0.000000</td>\n      <td>0.000000</td>\n      <td>0.000000</td>\n      <td>0.000000</td>\n      <td>0.000000</td>\n      <td>0.000000</td>\n      <td>0.000000</td>\n      <td>0.000000</td>\n      <td>1.000000</td>\n    </tr>\n    <tr>\n      <th>max</th>\n      <td>16.00000</td>\n      <td>17.000000</td>\n      <td>17.000000</td>\n      <td>18.000000</td>\n      <td>19.000000</td>\n      <td>23.000000</td>\n      <td>31.000000</td>\n      <td>16.0000</td>\n      <td>18.000000</td>\n      <td>24.000000</td>\n      <td>...</td>\n      <td>20.00000</td>\n      <td>12.000000</td>\n      <td>19.000000</td>\n      <td>18.000000</td>\n      <td>16.000000</td>\n      <td>9.000000</td>\n      <td>5.000000</td>\n      <td>7.000000</td>\n      <td>5.000000</td>\n      <td>1.000000</td>\n    </tr>\n  </tbody>\n</table>\n<p>8 rows × 785 columns</p>\n</div>"
     },
     "execution_count": 89,
     "metadata": {},
     "output_type": "execute_result"
    }
   ],
   "source": [
    "df.describe()"
   ],
   "metadata": {
    "collapsed": false,
    "pycharm": {
     "name": "#%%\n"
    }
   }
  },
  {
   "cell_type": "code",
   "execution_count": 90,
   "outputs": [
    {
     "data": {
      "text/plain": "label\n0    1000\n1    1000\nName: count, dtype: int64"
     },
     "execution_count": 90,
     "metadata": {},
     "output_type": "execute_result"
    }
   ],
   "source": [
    "label_counts = df['label'].value_counts()\n",
    "label_counts"
   ],
   "metadata": {
    "collapsed": false,
    "pycharm": {
     "name": "#%%\n"
    }
   }
  },
  {
   "cell_type": "markdown",
   "source": [
    "### Creating test and train"
   ],
   "metadata": {
    "collapsed": false,
    "pycharm": {
     "name": "#%% md\n"
    }
   }
  },
  {
   "cell_type": "code",
   "execution_count": 91,
   "outputs": [],
   "source": [
    "# Separate features (pixels) and labels\n",
    "X = df.drop('label', axis=1)  # Features (pixel columns)\n",
    "y = df['label']  # Labels"
   ],
   "metadata": {
    "collapsed": false,
    "pycharm": {
     "name": "#%%\n"
    }
   }
  },
  {
   "cell_type": "code",
   "execution_count": 92,
   "outputs": [],
   "source": [
    "# Split the data into train and test sets\n",
    "X_train, X_test, y_train, y_test = train_test_split(X, y, test_size=0.2, random_state=42)"
   ],
   "metadata": {
    "collapsed": false,
    "pycharm": {
     "name": "#%%\n"
    }
   }
  },
  {
   "cell_type": "code",
   "execution_count": 93,
   "outputs": [
    {
     "data": {
      "text/plain": "(1600, 784)"
     },
     "execution_count": 93,
     "metadata": {},
     "output_type": "execute_result"
    }
   ],
   "source": [
    "X_train.shape"
   ],
   "metadata": {
    "collapsed": false,
    "pycharm": {
     "name": "#%%\n"
    }
   }
  },
  {
   "cell_type": "code",
   "execution_count": 94,
   "outputs": [
    {
     "data": {
      "text/plain": "      pixel_0  pixel_1  pixel_2  pixel_3  pixel_4  pixel_5  pixel_6  pixel_7   \n968         0        0        0        0        0        0        0        0  \\\n240         0        0        1        2        0        5        7        0   \n819         0        0        0        0        0        0        0        0   \n692         0        0        0        0        0        0        0        0   \n420         0        1        5        1        0        2        3        0   \n...       ...      ...      ...      ...      ...      ...      ...      ...   \n1130        0        0        0        0        0        0        0        0   \n1294        0        0        0        0        0        0        0        0   \n860         0        0        0        0        0        0        0        0   \n1459        0        0        0        0        0        0        0        0   \n1126        0        0        0        0        0        0        0        0   \n\n      pixel_8  pixel_9  ...  pixel_774  pixel_775  pixel_776  pixel_777   \n968         1        0  ...          0          0          0          0  \\\n240         0        0  ...          0          0          0          0   \n819         0       10  ...          0          0          0          0   \n692         0        0  ...          0          0          0          0   \n420         0        9  ...          0         17          0          0   \n...       ...      ...  ...        ...        ...        ...        ...   \n1130        4        0  ...          0          0          0          0   \n1294        0        2  ...          0          0          0          0   \n860         2        2  ...          0          0          0          0   \n1459        0        7  ...          0          0          0          0   \n1126        0        2  ...          0          0          0          0   \n\n      pixel_778  pixel_779  pixel_780  pixel_781  pixel_782  pixel_783  \n968           0          0          0          0          0          0  \n240           0          0          0          0          0          0  \n819           0          0          0          0          0          0  \n692           0          0          0          0          0          0  \n420           0          4          0          0          0          0  \n...         ...        ...        ...        ...        ...        ...  \n1130          0          0          0          0          0          0  \n1294          0          0          0          0          0          0  \n860           0          0          0          0          0          0  \n1459          0          0          0          0          0          0  \n1126          0          0          0          0          0          0  \n\n[1600 rows x 784 columns]",
      "text/html": "<div>\n<style scoped>\n    .dataframe tbody tr th:only-of-type {\n        vertical-align: middle;\n    }\n\n    .dataframe tbody tr th {\n        vertical-align: top;\n    }\n\n    .dataframe thead th {\n        text-align: right;\n    }\n</style>\n<table border=\"1\" class=\"dataframe\">\n  <thead>\n    <tr style=\"text-align: right;\">\n      <th></th>\n      <th>pixel_0</th>\n      <th>pixel_1</th>\n      <th>pixel_2</th>\n      <th>pixel_3</th>\n      <th>pixel_4</th>\n      <th>pixel_5</th>\n      <th>pixel_6</th>\n      <th>pixel_7</th>\n      <th>pixel_8</th>\n      <th>pixel_9</th>\n      <th>...</th>\n      <th>pixel_774</th>\n      <th>pixel_775</th>\n      <th>pixel_776</th>\n      <th>pixel_777</th>\n      <th>pixel_778</th>\n      <th>pixel_779</th>\n      <th>pixel_780</th>\n      <th>pixel_781</th>\n      <th>pixel_782</th>\n      <th>pixel_783</th>\n    </tr>\n  </thead>\n  <tbody>\n    <tr>\n      <th>968</th>\n      <td>0</td>\n      <td>0</td>\n      <td>0</td>\n      <td>0</td>\n      <td>0</td>\n      <td>0</td>\n      <td>0</td>\n      <td>0</td>\n      <td>1</td>\n      <td>0</td>\n      <td>...</td>\n      <td>0</td>\n      <td>0</td>\n      <td>0</td>\n      <td>0</td>\n      <td>0</td>\n      <td>0</td>\n      <td>0</td>\n      <td>0</td>\n      <td>0</td>\n      <td>0</td>\n    </tr>\n    <tr>\n      <th>240</th>\n      <td>0</td>\n      <td>0</td>\n      <td>1</td>\n      <td>2</td>\n      <td>0</td>\n      <td>5</td>\n      <td>7</td>\n      <td>0</td>\n      <td>0</td>\n      <td>0</td>\n      <td>...</td>\n      <td>0</td>\n      <td>0</td>\n      <td>0</td>\n      <td>0</td>\n      <td>0</td>\n      <td>0</td>\n      <td>0</td>\n      <td>0</td>\n      <td>0</td>\n      <td>0</td>\n    </tr>\n    <tr>\n      <th>819</th>\n      <td>0</td>\n      <td>0</td>\n      <td>0</td>\n      <td>0</td>\n      <td>0</td>\n      <td>0</td>\n      <td>0</td>\n      <td>0</td>\n      <td>0</td>\n      <td>10</td>\n      <td>...</td>\n      <td>0</td>\n      <td>0</td>\n      <td>0</td>\n      <td>0</td>\n      <td>0</td>\n      <td>0</td>\n      <td>0</td>\n      <td>0</td>\n      <td>0</td>\n      <td>0</td>\n    </tr>\n    <tr>\n      <th>692</th>\n      <td>0</td>\n      <td>0</td>\n      <td>0</td>\n      <td>0</td>\n      <td>0</td>\n      <td>0</td>\n      <td>0</td>\n      <td>0</td>\n      <td>0</td>\n      <td>0</td>\n      <td>...</td>\n      <td>0</td>\n      <td>0</td>\n      <td>0</td>\n      <td>0</td>\n      <td>0</td>\n      <td>0</td>\n      <td>0</td>\n      <td>0</td>\n      <td>0</td>\n      <td>0</td>\n    </tr>\n    <tr>\n      <th>420</th>\n      <td>0</td>\n      <td>1</td>\n      <td>5</td>\n      <td>1</td>\n      <td>0</td>\n      <td>2</td>\n      <td>3</td>\n      <td>0</td>\n      <td>0</td>\n      <td>9</td>\n      <td>...</td>\n      <td>0</td>\n      <td>17</td>\n      <td>0</td>\n      <td>0</td>\n      <td>0</td>\n      <td>4</td>\n      <td>0</td>\n      <td>0</td>\n      <td>0</td>\n      <td>0</td>\n    </tr>\n    <tr>\n      <th>...</th>\n      <td>...</td>\n      <td>...</td>\n      <td>...</td>\n      <td>...</td>\n      <td>...</td>\n      <td>...</td>\n      <td>...</td>\n      <td>...</td>\n      <td>...</td>\n      <td>...</td>\n      <td>...</td>\n      <td>...</td>\n      <td>...</td>\n      <td>...</td>\n      <td>...</td>\n      <td>...</td>\n      <td>...</td>\n      <td>...</td>\n      <td>...</td>\n      <td>...</td>\n      <td>...</td>\n    </tr>\n    <tr>\n      <th>1130</th>\n      <td>0</td>\n      <td>0</td>\n      <td>0</td>\n      <td>0</td>\n      <td>0</td>\n      <td>0</td>\n      <td>0</td>\n      <td>0</td>\n      <td>4</td>\n      <td>0</td>\n      <td>...</td>\n      <td>0</td>\n      <td>0</td>\n      <td>0</td>\n      <td>0</td>\n      <td>0</td>\n      <td>0</td>\n      <td>0</td>\n      <td>0</td>\n      <td>0</td>\n      <td>0</td>\n    </tr>\n    <tr>\n      <th>1294</th>\n      <td>0</td>\n      <td>0</td>\n      <td>0</td>\n      <td>0</td>\n      <td>0</td>\n      <td>0</td>\n      <td>0</td>\n      <td>0</td>\n      <td>0</td>\n      <td>2</td>\n      <td>...</td>\n      <td>0</td>\n      <td>0</td>\n      <td>0</td>\n      <td>0</td>\n      <td>0</td>\n      <td>0</td>\n      <td>0</td>\n      <td>0</td>\n      <td>0</td>\n      <td>0</td>\n    </tr>\n    <tr>\n      <th>860</th>\n      <td>0</td>\n      <td>0</td>\n      <td>0</td>\n      <td>0</td>\n      <td>0</td>\n      <td>0</td>\n      <td>0</td>\n      <td>0</td>\n      <td>2</td>\n      <td>2</td>\n      <td>...</td>\n      <td>0</td>\n      <td>0</td>\n      <td>0</td>\n      <td>0</td>\n      <td>0</td>\n      <td>0</td>\n      <td>0</td>\n      <td>0</td>\n      <td>0</td>\n      <td>0</td>\n    </tr>\n    <tr>\n      <th>1459</th>\n      <td>0</td>\n      <td>0</td>\n      <td>0</td>\n      <td>0</td>\n      <td>0</td>\n      <td>0</td>\n      <td>0</td>\n      <td>0</td>\n      <td>0</td>\n      <td>7</td>\n      <td>...</td>\n      <td>0</td>\n      <td>0</td>\n      <td>0</td>\n      <td>0</td>\n      <td>0</td>\n      <td>0</td>\n      <td>0</td>\n      <td>0</td>\n      <td>0</td>\n      <td>0</td>\n    </tr>\n    <tr>\n      <th>1126</th>\n      <td>0</td>\n      <td>0</td>\n      <td>0</td>\n      <td>0</td>\n      <td>0</td>\n      <td>0</td>\n      <td>0</td>\n      <td>0</td>\n      <td>0</td>\n      <td>2</td>\n      <td>...</td>\n      <td>0</td>\n      <td>0</td>\n      <td>0</td>\n      <td>0</td>\n      <td>0</td>\n      <td>0</td>\n      <td>0</td>\n      <td>0</td>\n      <td>0</td>\n      <td>0</td>\n    </tr>\n  </tbody>\n</table>\n<p>1600 rows × 784 columns</p>\n</div>"
     },
     "execution_count": 94,
     "metadata": {},
     "output_type": "execute_result"
    }
   ],
   "source": [
    "X_train"
   ],
   "metadata": {
    "collapsed": false,
    "pycharm": {
     "name": "#%%\n"
    }
   }
  },
  {
   "cell_type": "code",
   "execution_count": 95,
   "outputs": [
    {
     "data": {
      "text/plain": "(400, 784)"
     },
     "execution_count": 95,
     "metadata": {},
     "output_type": "execute_result"
    }
   ],
   "source": [
    "X_test.shape"
   ],
   "metadata": {
    "collapsed": false,
    "pycharm": {
     "name": "#%%\n"
    }
   }
  },
  {
   "cell_type": "code",
   "execution_count": 96,
   "outputs": [
    {
     "data": {
      "text/plain": "      pixel_0  pixel_1  pixel_2  pixel_3  pixel_4  pixel_5  pixel_6  pixel_7   \n1860        0        0        0        0        0        0        0        0  \\\n353         0        0        0        0        7        0        0        5   \n1333        0        0        0        0        0        0        0        0   \n905         0        0        0        0        0        0        0        0   \n1289        0       10        8        0        0        0        0        0   \n...       ...      ...      ...      ...      ...      ...      ...      ...   \n965         0        0        0        0        0        0        0        0   \n1284        0        0        0        0        0        0        0        0   \n1739        0        0        0        0        0        0        0        0   \n261         0        0        0        0        0        0        0        0   \n535         0        0        0        0        0        0        0        0   \n\n      pixel_8  pixel_9  ...  pixel_774  pixel_775  pixel_776  pixel_777   \n1860       13        0  ...          0          0          0          0  \\\n353         4        5  ...          0          0          0          0   \n1333        0        3  ...          0          0          0          0   \n905         0        0  ...          0          0          0          0   \n1289        3        0  ...          0          0          0          0   \n...       ...      ...  ...        ...        ...        ...        ...   \n965         0       17  ...          0          0          0          0   \n1284        3        0  ...          0          1          1          1   \n1739        0        5  ...          0          0          0          0   \n261         0        0  ...          0          0          0          0   \n535         0        3  ...          0          0          0          0   \n\n      pixel_778  pixel_779  pixel_780  pixel_781  pixel_782  pixel_783  \n1860          0          0          0          0          0          0  \n353           0          0          0          0          0          0  \n1333          0          0          0          0          0          0  \n905           0          0          0          0          0          0  \n1289          0          0          0          0          0          0  \n...         ...        ...        ...        ...        ...        ...  \n965           0          0          0          0          0          0  \n1284          0          0          0          0          0          0  \n1739          0          0          0          0          0          0  \n261           0          0          0          0          0          0  \n535           0          0          0          0          0          0  \n\n[400 rows x 784 columns]",
      "text/html": "<div>\n<style scoped>\n    .dataframe tbody tr th:only-of-type {\n        vertical-align: middle;\n    }\n\n    .dataframe tbody tr th {\n        vertical-align: top;\n    }\n\n    .dataframe thead th {\n        text-align: right;\n    }\n</style>\n<table border=\"1\" class=\"dataframe\">\n  <thead>\n    <tr style=\"text-align: right;\">\n      <th></th>\n      <th>pixel_0</th>\n      <th>pixel_1</th>\n      <th>pixel_2</th>\n      <th>pixel_3</th>\n      <th>pixel_4</th>\n      <th>pixel_5</th>\n      <th>pixel_6</th>\n      <th>pixel_7</th>\n      <th>pixel_8</th>\n      <th>pixel_9</th>\n      <th>...</th>\n      <th>pixel_774</th>\n      <th>pixel_775</th>\n      <th>pixel_776</th>\n      <th>pixel_777</th>\n      <th>pixel_778</th>\n      <th>pixel_779</th>\n      <th>pixel_780</th>\n      <th>pixel_781</th>\n      <th>pixel_782</th>\n      <th>pixel_783</th>\n    </tr>\n  </thead>\n  <tbody>\n    <tr>\n      <th>1860</th>\n      <td>0</td>\n      <td>0</td>\n      <td>0</td>\n      <td>0</td>\n      <td>0</td>\n      <td>0</td>\n      <td>0</td>\n      <td>0</td>\n      <td>13</td>\n      <td>0</td>\n      <td>...</td>\n      <td>0</td>\n      <td>0</td>\n      <td>0</td>\n      <td>0</td>\n      <td>0</td>\n      <td>0</td>\n      <td>0</td>\n      <td>0</td>\n      <td>0</td>\n      <td>0</td>\n    </tr>\n    <tr>\n      <th>353</th>\n      <td>0</td>\n      <td>0</td>\n      <td>0</td>\n      <td>0</td>\n      <td>7</td>\n      <td>0</td>\n      <td>0</td>\n      <td>5</td>\n      <td>4</td>\n      <td>5</td>\n      <td>...</td>\n      <td>0</td>\n      <td>0</td>\n      <td>0</td>\n      <td>0</td>\n      <td>0</td>\n      <td>0</td>\n      <td>0</td>\n      <td>0</td>\n      <td>0</td>\n      <td>0</td>\n    </tr>\n    <tr>\n      <th>1333</th>\n      <td>0</td>\n      <td>0</td>\n      <td>0</td>\n      <td>0</td>\n      <td>0</td>\n      <td>0</td>\n      <td>0</td>\n      <td>0</td>\n      <td>0</td>\n      <td>3</td>\n      <td>...</td>\n      <td>0</td>\n      <td>0</td>\n      <td>0</td>\n      <td>0</td>\n      <td>0</td>\n      <td>0</td>\n      <td>0</td>\n      <td>0</td>\n      <td>0</td>\n      <td>0</td>\n    </tr>\n    <tr>\n      <th>905</th>\n      <td>0</td>\n      <td>0</td>\n      <td>0</td>\n      <td>0</td>\n      <td>0</td>\n      <td>0</td>\n      <td>0</td>\n      <td>0</td>\n      <td>0</td>\n      <td>0</td>\n      <td>...</td>\n      <td>0</td>\n      <td>0</td>\n      <td>0</td>\n      <td>0</td>\n      <td>0</td>\n      <td>0</td>\n      <td>0</td>\n      <td>0</td>\n      <td>0</td>\n      <td>0</td>\n    </tr>\n    <tr>\n      <th>1289</th>\n      <td>0</td>\n      <td>10</td>\n      <td>8</td>\n      <td>0</td>\n      <td>0</td>\n      <td>0</td>\n      <td>0</td>\n      <td>0</td>\n      <td>3</td>\n      <td>0</td>\n      <td>...</td>\n      <td>0</td>\n      <td>0</td>\n      <td>0</td>\n      <td>0</td>\n      <td>0</td>\n      <td>0</td>\n      <td>0</td>\n      <td>0</td>\n      <td>0</td>\n      <td>0</td>\n    </tr>\n    <tr>\n      <th>...</th>\n      <td>...</td>\n      <td>...</td>\n      <td>...</td>\n      <td>...</td>\n      <td>...</td>\n      <td>...</td>\n      <td>...</td>\n      <td>...</td>\n      <td>...</td>\n      <td>...</td>\n      <td>...</td>\n      <td>...</td>\n      <td>...</td>\n      <td>...</td>\n      <td>...</td>\n      <td>...</td>\n      <td>...</td>\n      <td>...</td>\n      <td>...</td>\n      <td>...</td>\n      <td>...</td>\n    </tr>\n    <tr>\n      <th>965</th>\n      <td>0</td>\n      <td>0</td>\n      <td>0</td>\n      <td>0</td>\n      <td>0</td>\n      <td>0</td>\n      <td>0</td>\n      <td>0</td>\n      <td>0</td>\n      <td>17</td>\n      <td>...</td>\n      <td>0</td>\n      <td>0</td>\n      <td>0</td>\n      <td>0</td>\n      <td>0</td>\n      <td>0</td>\n      <td>0</td>\n      <td>0</td>\n      <td>0</td>\n      <td>0</td>\n    </tr>\n    <tr>\n      <th>1284</th>\n      <td>0</td>\n      <td>0</td>\n      <td>0</td>\n      <td>0</td>\n      <td>0</td>\n      <td>0</td>\n      <td>0</td>\n      <td>0</td>\n      <td>3</td>\n      <td>0</td>\n      <td>...</td>\n      <td>0</td>\n      <td>1</td>\n      <td>1</td>\n      <td>1</td>\n      <td>0</td>\n      <td>0</td>\n      <td>0</td>\n      <td>0</td>\n      <td>0</td>\n      <td>0</td>\n    </tr>\n    <tr>\n      <th>1739</th>\n      <td>0</td>\n      <td>0</td>\n      <td>0</td>\n      <td>0</td>\n      <td>0</td>\n      <td>0</td>\n      <td>0</td>\n      <td>0</td>\n      <td>0</td>\n      <td>5</td>\n      <td>...</td>\n      <td>0</td>\n      <td>0</td>\n      <td>0</td>\n      <td>0</td>\n      <td>0</td>\n      <td>0</td>\n      <td>0</td>\n      <td>0</td>\n      <td>0</td>\n      <td>0</td>\n    </tr>\n    <tr>\n      <th>261</th>\n      <td>0</td>\n      <td>0</td>\n      <td>0</td>\n      <td>0</td>\n      <td>0</td>\n      <td>0</td>\n      <td>0</td>\n      <td>0</td>\n      <td>0</td>\n      <td>0</td>\n      <td>...</td>\n      <td>0</td>\n      <td>0</td>\n      <td>0</td>\n      <td>0</td>\n      <td>0</td>\n      <td>0</td>\n      <td>0</td>\n      <td>0</td>\n      <td>0</td>\n      <td>0</td>\n    </tr>\n    <tr>\n      <th>535</th>\n      <td>0</td>\n      <td>0</td>\n      <td>0</td>\n      <td>0</td>\n      <td>0</td>\n      <td>0</td>\n      <td>0</td>\n      <td>0</td>\n      <td>0</td>\n      <td>3</td>\n      <td>...</td>\n      <td>0</td>\n      <td>0</td>\n      <td>0</td>\n      <td>0</td>\n      <td>0</td>\n      <td>0</td>\n      <td>0</td>\n      <td>0</td>\n      <td>0</td>\n      <td>0</td>\n    </tr>\n  </tbody>\n</table>\n<p>400 rows × 784 columns</p>\n</div>"
     },
     "execution_count": 96,
     "metadata": {},
     "output_type": "execute_result"
    }
   ],
   "source": [
    "X_test"
   ],
   "metadata": {
    "collapsed": false,
    "pycharm": {
     "name": "#%%\n"
    }
   }
  },
  {
   "cell_type": "markdown",
   "source": [
    "### reshape the input data to a 4D tensor"
   ],
   "metadata": {
    "collapsed": false,
    "pycharm": {
     "name": "#%% md\n"
    }
   }
  },
  {
   "cell_type": "code",
   "execution_count": 97,
   "outputs": [
    {
     "data": {
      "text/plain": "(1600, 28, 28, 1)"
     },
     "execution_count": 97,
     "metadata": {},
     "output_type": "execute_result"
    }
   ],
   "source": [
    "X_train = X_train.values.reshape(-1, 28, 28, 1)\n",
    "X_test = X_test.values.reshape(-1, 28, 28, 1)\n",
    "X_train.shape"
   ],
   "metadata": {
    "collapsed": false,
    "pycharm": {
     "name": "#%%\n"
    }
   }
  },
  {
   "cell_type": "markdown",
   "source": [
    "### Defining ArchitectureCertainly! I apologize for the confusion. Let's go through each layer in the architecture and explain the `in_channels` and `out_channels` parameters:\n",
    "\n",
    "1. Conv1:\n",
    "   - `in_channels`: The number of input channels to the convolutional layer. Since we are using grayscale images, the input shape is `(batch_size, 28, 28, 1)`. The input has only one channel (grayscale), so `in_channels` is set to 1.\n",
    "   - `out_channels`: The number of output channels from the convolutional layer. Here, we set `out_channels=32`, which means that Conv1 will output 32 feature maps.\n",
    "\n",
    "2. MaxPool1:\n",
    "   - `in_channels`: The number of input channels to the max pooling layer. It should match the number of output channels from the previous layer. In this case, MaxPool1 receives the 32 feature maps outputted by Conv1, so `in_channels` is set to 32.\n",
    "   - `out_channels`: Max pooling layers do not change the number of channels. It remains the same, so `out_channels` will also be 32.\n",
    "\n",
    "3. Conv2:\n",
    "   - `in_channels`: The number of input channels to the convolutional layer. It should match the number of output channels from the previous layer, which is 32 in this case (output of MaxPool1). Therefore, `in_channels` is set to 32.\n",
    "   - `out_channels`: The number of output channels from the convolutional layer. Here, we set `out_channels=64`, which means Conv2 will output 64 feature maps.\n",
    "\n",
    "4. MaxPool2:\n",
    "   - `in_channels`: The number of input channels to the max pooling layer. It should match the number of output channels from the previous layer. In this case, MaxPool2 receives the 64 feature maps outputted by Conv2, so `in_channels` is set to 64.\n",
    "   - `out_channels`: Max pooling layers do not change the number of channels. It remains the same, so `out_channels` will also be 64.\n",
    "\n",
    "5. FC1:\n",
    "   - `input_size`: The number of input units to the fully connected (dense) layer. Here, we need to consider the flattened size of the feature maps from the previous layer. Since the output of MaxPool2 is `(batch_size, 7, 7, 64)`, we flatten it to a 1D vector of size `7 * 7 * 64 = 3136`. Therefore, `input_size` is set to 3136.\n",
    "   - `output_size`: The number of output units from the fully connected layer. Here, we set `output_size=128`, meaning FC1 will output a vector of size 128.\n",
    "\n",
    "6. FC2:\n",
    "   - `input_size`: The number of input units to the fully connected layer. It should match the `output_size` of the previous layer, which is 128 in this case (output of FC1). Therefore, `input_size` is set to 128.\n",
    "   - `output_size`: The number of output units from the fully connected layer. Here, we set `output_size=64`, meaning FC2 will output a vector of size 64.\n",
    "\n",
    "7. FC3:\n",
    "   - `input_size`: The number of input units to the fully connected layer. It should match the `output_size` of the previous layer, which is 64 in this case (output of FC2). Therefore, `input_size` is set to 64.\n",
    "   - `output_size`: The number of output units from the fully connected layer. Here, we set `output_size=1`, as we are performing binary\n",
    "\n",
    " classification. FC3 will output a single value representing the predicted class probability.\n",
    "\n",
    "The `in_channels` and `out_channels` parameters determine the number of filters or feature maps in convolutional layers. In subsequent fully connected layers, they refer to the number of input and output units, respectively. These values are typically chosen based on the complexity of the data and the desired capacity of the network. Adjusting these values can affect the model's performance, so experimentation and tuning may be necessary."
   ],
   "metadata": {
    "collapsed": false,
    "pycharm": {
     "name": "#%% md\n"
    }
   }
  },
  {
   "cell_type": "code",
   "execution_count": 102,
   "outputs": [
    {
     "name": "stdout",
     "output_type": "stream",
     "text": [
      "Weights:\n",
      "(3, 3, 1, 32)\n",
      "[[[[-1.37918364e-02 -8.31327373e-03 -1.25863560e-02  1.81083853e-02\n",
      "     1.18695612e-02  3.44227365e-03  4.94337573e-03 -9.42728609e-03\n",
      "    -1.43479046e-02  3.10812091e-04  4.43845960e-03  1.28699621e-02\n",
      "    -2.86752114e-03 -6.55550394e-03  1.95336351e-03 -1.33686497e-02\n",
      "     9.73327975e-03  1.81259016e-02  7.31403300e-03 -1.83150523e-02\n",
      "    -9.97026535e-03 -1.32033321e-02  1.11973161e-02 -2.00736768e-03\n",
      "     6.00079591e-03 -2.34183881e-02  6.27882981e-03  1.35088992e-04\n",
      "    -4.64897581e-03 -3.48236206e-03 -1.97073448e-02  1.69442382e-02]]\n",
      "\n",
      "  [[ 6.86196467e-03 -1.41687441e-02 -1.50524278e-03  2.15892744e-02\n",
      "    -1.54737928e-02 -1.34696485e-02 -4.92751534e-03 -2.30392077e-02\n",
      "    -5.90385372e-03 -1.32064582e-02  5.18644979e-03  3.47106169e-03\n",
      "    -3.76812792e-03  3.39650297e-03 -3.40598916e-03  1.51507579e-02\n",
      "     1.82032566e-02  2.19463437e-03  2.80932442e-03 -1.64485111e-02\n",
      "     4.84720376e-03 -7.86443097e-03  1.24879095e-02  5.45554710e-03\n",
      "    -1.79977093e-03  3.98746704e-03  1.66233977e-03  8.27736987e-03\n",
      "     1.32151779e-03 -1.65408639e-02 -2.77309633e-03 -1.38035127e-02]]\n",
      "\n",
      "  [[ 1.24224195e-02  1.40222075e-02  2.66884609e-03 -1.40286580e-02\n",
      "    -5.60342174e-03  8.23528767e-03 -9.67076695e-03  1.04457843e-03\n",
      "     9.77827139e-03 -5.57015486e-03 -2.40337467e-04 -2.74750131e-03\n",
      "    -7.15808005e-04  1.30118444e-03 -6.42261063e-03 -1.29083600e-03\n",
      "    -2.60918061e-03 -1.61781919e-02 -3.26136073e-03  3.87300830e-03\n",
      "    -1.26194864e-02  7.48232603e-03  1.05538360e-02  5.83644171e-04\n",
      "     8.65118756e-03 -1.60889734e-02 -8.59053149e-03 -7.18621432e-05\n",
      "    -5.95040971e-03 -3.72222137e-03  8.69805825e-03  1.69468606e-02]]]\n",
      "\n",
      "\n",
      " [[[-4.42463139e-03 -2.19426091e-02  5.48199015e-03  1.64973550e-02\n",
      "     3.41981331e-03  1.43638934e-03  4.92230412e-03  1.16422961e-03\n",
      "    -1.91472695e-04 -2.77462744e-03  1.75349754e-03 -4.91597676e-03\n",
      "     5.99600869e-03 -1.04134394e-02 -1.70841408e-03 -1.56227033e-02\n",
      "    -7.61653778e-03  8.84039816e-03  5.71525067e-03  1.63157411e-03\n",
      "    -1.70603645e-03 -1.70653015e-02  1.31307561e-02  6.30839628e-03\n",
      "    -1.10984186e-02 -7.20358968e-03 -1.21604260e-02  2.17929474e-03\n",
      "    -7.06742969e-03  1.52399268e-02  6.46170631e-03  1.07338084e-03]]\n",
      "\n",
      "  [[-1.17652232e-02 -1.57299803e-02 -2.04250614e-03 -1.18925335e-02\n",
      "    -7.79986990e-03  1.59891033e-03 -7.41857682e-03  3.77806955e-02\n",
      "     1.09942282e-02  4.20054656e-03  3.49605539e-03  6.78577198e-03\n",
      "     9.59246680e-03  6.12324546e-04 -5.10107852e-03  1.94419691e-02\n",
      "    -1.10159642e-02 -5.35347395e-03 -1.85365235e-02 -1.80522684e-02\n",
      "     6.54222042e-03 -1.29161789e-02  7.49142957e-03 -6.96019408e-03\n",
      "     2.55393287e-03  1.53414964e-02  2.35074729e-02  4.04818209e-03\n",
      "    -1.51203136e-03  1.49539739e-02 -6.77838805e-03  8.08380977e-03]]\n",
      "\n",
      "  [[ 1.23404476e-03 -7.25553736e-03 -5.20313206e-03  5.05158088e-03\n",
      "    -8.68377444e-03 -1.92117070e-02 -9.99201539e-03 -1.59328290e-03\n",
      "     1.52403220e-02 -2.33787187e-03  4.33954994e-03 -9.45702837e-03\n",
      "     2.16274311e-02  1.75126467e-02 -4.29376937e-03 -4.36004734e-03\n",
      "    -1.18695419e-02 -3.48422323e-03  2.43562073e-05 -5.27539012e-04\n",
      "    -6.93801883e-03 -2.70547250e-03 -2.27140238e-02  4.98442159e-03\n",
      "    -8.36406049e-03  4.65474389e-03 -6.33804203e-03 -2.45297825e-02\n",
      "     1.24750797e-02  1.41392288e-02  5.18641129e-03  4.57695056e-03]]]\n",
      "\n",
      "\n",
      " [[[-5.29926169e-03  5.05668439e-04  1.69375497e-02 -3.45237962e-03\n",
      "    -9.57990625e-03  1.96573130e-03  5.36245653e-03 -4.86655780e-03\n",
      "    -1.95235620e-02  1.42634633e-02  8.97492290e-03 -1.01687788e-02\n",
      "     1.51493096e-02 -2.35212915e-02  2.24072415e-02  8.41091113e-03\n",
      "    -4.04830364e-04 -1.12084088e-03 -2.96835484e-02 -5.07113976e-03\n",
      "    -2.15921118e-03 -1.54347729e-02 -1.60099355e-02 -1.10677013e-02\n",
      "    -7.70335129e-03  1.59079865e-02 -1.70777015e-02  2.93845682e-03\n",
      "    -7.88152543e-03  5.74010411e-03 -1.19718347e-02 -7.36705626e-03]]\n",
      "\n",
      "  [[-8.58589037e-05  8.03674456e-03  4.76660298e-03 -3.08623836e-03\n",
      "    -6.76391564e-03 -9.26119293e-03  9.11404939e-03  3.62779806e-04\n",
      "     4.43478842e-03  1.09112806e-02  1.16413491e-02  1.56663898e-02\n",
      "    -1.10197134e-02 -1.25959505e-02  4.39666506e-03 -8.86660078e-03\n",
      "     1.27228383e-02  9.50339078e-03 -3.40968761e-02 -1.21306221e-02\n",
      "     9.81802358e-03 -1.47057095e-02 -8.81419541e-03  1.04595264e-02\n",
      "    -2.69405003e-03  2.48380532e-03  6.20247339e-03  5.29438597e-03\n",
      "    -8.86914355e-03  1.25737091e-02  2.73157914e-03  1.01374507e-02]]\n",
      "\n",
      "  [[ 9.69312505e-04  8.06118872e-03 -1.03398306e-02 -5.63303139e-03\n",
      "    -3.16259616e-03 -3.09158529e-03 -1.32453921e-02 -1.99420984e-03\n",
      "    -2.88223549e-03 -1.80293916e-02 -4.68202164e-03  2.38139103e-03\n",
      "    -2.98250844e-03 -4.12878672e-03 -2.21267364e-03  3.86441083e-04\n",
      "    -1.08383566e-02  1.10700309e-02  3.54428703e-03 -4.88332638e-03\n",
      "    -2.86164795e-04 -6.17714923e-03 -1.45306678e-03 -9.97166002e-03\n",
      "     1.31006656e-02 -3.21187097e-03  2.58619851e-05 -1.03608233e-02\n",
      "     5.04885304e-03  6.10627703e-04 -2.54742667e-02 -1.15816217e-04]]]]\n",
      "Bias:\n",
      "(1, 1, 1, 32)\n",
      "[[[[0. 0. 0. 0. 0. 0. 0. 0. 0. 0. 0. 0. 0. 0. 0. 0. 0. 0. 0. 0. 0. 0.\n",
      "    0. 0. 0. 0. 0. 0. 0. 0. 0. 0.]]]]\n",
      "Weights:\n",
      "(3, 3, 32, 64)\n",
      "[[[[-9.84978802e-03  1.55369172e-02 -1.38863614e-03 ...  8.71453633e-03\n",
      "    -4.66513506e-04 -6.55319013e-03]\n",
      "   [-2.69484755e-03  3.28516938e-03  7.19342998e-04 ...  1.01541004e-02\n",
      "     9.88352849e-03 -3.64113069e-03]\n",
      "   [ 3.04622107e-03  3.56216107e-03  3.19968482e-03 ...  1.04825311e-02\n",
      "     1.30413103e-02 -3.50361592e-03]\n",
      "   ...\n",
      "   [ 2.52976282e-03 -8.51707203e-03  7.22463312e-03 ...  1.56213431e-02\n",
      "     1.24675531e-02  9.48614099e-03]\n",
      "   [-1.76424600e-03 -5.38113293e-03  1.67457210e-04 ...  1.99465364e-02\n",
      "    -1.99156724e-03 -3.68465113e-03]\n",
      "   [-3.91563226e-03 -1.41145604e-02 -5.00362929e-03 ...  1.98332478e-02\n",
      "    -7.11521694e-03 -5.90651201e-03]]\n",
      "\n",
      "  [[-3.69025646e-03 -4.82110444e-03  1.72167319e-02 ...  4.96792502e-03\n",
      "     4.08425026e-03  4.83924132e-03]\n",
      "   [ 2.32814904e-03 -7.88536721e-04  5.21462591e-03 ...  2.19531031e-03\n",
      "     2.55176664e-02  5.47530386e-03]\n",
      "   [ 3.57064435e-03 -1.54417399e-02 -7.45557215e-05 ...  5.75677584e-04\n",
      "     2.42908523e-04 -4.54744156e-03]\n",
      "   ...\n",
      "   [ 3.29832288e-03  4.65449635e-03  9.41093292e-03 ...  6.86784656e-03\n",
      "     1.07336733e-02  6.15291324e-03]\n",
      "   [-4.04059766e-03  1.50130560e-02 -1.54688196e-02 ... -1.14942773e-02\n",
      "     7.88389773e-03  4.97553772e-03]\n",
      "   [-2.30267541e-02 -1.53531906e-02  3.35228088e-03 ...  5.27259929e-03\n",
      "    -1.80106823e-03 -1.08639451e-02]]\n",
      "\n",
      "  [[-1.03450468e-02 -1.46172325e-02 -5.81193458e-03 ...  1.52089351e-02\n",
      "    -1.21243134e-02  8.10487230e-03]\n",
      "   [ 1.65683746e-03 -8.49372100e-03 -4.78038713e-03 ... -5.41181142e-03\n",
      "     6.98472293e-03  3.18005855e-04]\n",
      "   [ 5.69984716e-03  2.72705894e-03 -1.06637732e-02 ... -8.68859792e-04\n",
      "     8.63847379e-03  1.99564989e-03]\n",
      "   ...\n",
      "   [-3.23219336e-02  1.04853146e-02 -6.48803041e-03 ... -1.10078060e-02\n",
      "     1.03334715e-02  9.86236528e-03]\n",
      "   [-2.51008728e-02  1.63375208e-02 -1.36835028e-02 ... -6.27900736e-03\n",
      "     1.28893418e-02 -3.52830917e-03]\n",
      "   [-3.70790547e-04 -6.06299708e-03  7.54551942e-03 ... -5.91314559e-03\n",
      "    -4.18002326e-03 -6.76517325e-03]]]\n",
      "\n",
      "\n",
      " [[[ 1.37253222e-03 -2.78964414e-04 -9.01347601e-03 ... -1.26053653e-02\n",
      "     2.61024445e-03 -2.83981966e-03]\n",
      "   [-1.15051998e-02 -1.67050524e-02 -1.51490510e-02 ... -6.12698815e-03\n",
      "     1.45486550e-02  1.67629745e-02]\n",
      "   [-2.41433084e-02 -4.32364499e-03 -1.52558429e-02 ...  8.47589125e-03\n",
      "     3.87494647e-04  1.62183424e-04]\n",
      "   ...\n",
      "   [-1.70016730e-02 -5.91187242e-03 -3.75325399e-04 ... -2.51264344e-04\n",
      "    -2.30787868e-03 -2.42297357e-03]\n",
      "   [-3.85223517e-03  1.69875493e-02 -1.55892887e-02 ... -3.68564351e-03\n",
      "    -2.10709958e-02 -6.56373641e-03]\n",
      "   [-3.38106886e-03  2.37571370e-03 -1.69287328e-03 ...  2.31052650e-03\n",
      "    -1.01074425e-02  2.61737473e-02]]\n",
      "\n",
      "  [[ 7.96304600e-03 -5.17871636e-03 -3.28722476e-03 ... -3.15761629e-03\n",
      "     4.50284226e-03 -1.72207624e-03]\n",
      "   [-2.93010505e-03  1.10080689e-02 -3.30342031e-03 ...  3.75828808e-03\n",
      "    -1.13734478e-02 -1.01518470e-04]\n",
      "   [-3.13935943e-03  2.27364443e-03 -4.98977718e-04 ... -7.04630240e-03\n",
      "     1.70926015e-02 -5.17371727e-03]\n",
      "   ...\n",
      "   [ 1.20833738e-02  8.48123121e-03 -4.02179069e-03 ...  1.65312256e-02\n",
      "     9.03924890e-04 -1.85387072e-02]\n",
      "   [ 2.07826546e-03 -5.64132098e-03  5.24179580e-03 ...  1.11164343e-02\n",
      "     9.01259357e-03  1.30712619e-02]\n",
      "   [ 2.36805572e-03 -1.10499853e-03 -1.58981440e-02 ... -1.11546972e-03\n",
      "    -1.31245500e-02  2.89235825e-03]]\n",
      "\n",
      "  [[-5.78195669e-03 -1.08619561e-02  3.40599392e-03 ... -1.90064589e-02\n",
      "     6.69866461e-03 -1.71558240e-02]\n",
      "   [-1.12971896e-02 -1.28343893e-02  9.23266322e-03 ... -7.09727046e-03\n",
      "     9.70316616e-03 -3.14150096e-03]\n",
      "   [-8.49992445e-03  1.41943980e-02  6.71015591e-03 ... -3.29416543e-03\n",
      "    -1.56922858e-04 -1.38103428e-02]\n",
      "   ...\n",
      "   [ 9.58711383e-03 -1.05804672e-03  9.00736568e-03 ... -1.96680208e-02\n",
      "     1.42425513e-02  2.94973794e-03]\n",
      "   [-4.23047177e-03 -9.55123242e-03  1.51002543e-02 ... -5.25990069e-03\n",
      "     1.25483242e-02 -5.55062494e-03]\n",
      "   [ 7.62495863e-03  3.24787635e-03 -6.66519695e-04 ... -1.83067138e-03\n",
      "     1.80565637e-03  9.48487328e-03]]]\n",
      "\n",
      "\n",
      " [[[ 5.81306411e-03 -5.15289492e-03 -9.74623399e-03 ... -5.75717747e-04\n",
      "    -3.88747561e-03 -1.16921511e-03]\n",
      "   [-2.34431417e-02  1.07033526e-02 -3.02214717e-03 ...  3.48344018e-05\n",
      "    -1.73688520e-02  9.52196406e-03]\n",
      "   [ 2.00073948e-02 -1.28411942e-02 -1.98701555e-02 ...  2.04996222e-02\n",
      "     5.13934558e-03 -1.40219991e-03]\n",
      "   ...\n",
      "   [-9.58781575e-03  1.53537168e-02  1.07978878e-02 ... -2.08663937e-02\n",
      "    -9.85022952e-03 -9.31983430e-03]\n",
      "   [-1.25189553e-02  3.24616515e-03  3.07235339e-03 ...  9.06527580e-03\n",
      "     1.36206504e-03 -6.73083905e-03]\n",
      "   [ 7.79122608e-03  1.78901662e-02  5.85431850e-03 ... -2.52065766e-03\n",
      "     2.64542531e-02  4.85289737e-03]]\n",
      "\n",
      "  [[ 3.57590676e-03  3.75457949e-03 -5.83307464e-03 ...  1.37324141e-02\n",
      "    -5.92816428e-03  1.09420199e-04]\n",
      "   [-4.39896676e-03 -2.61233300e-03 -1.40343537e-03 ...  1.54814553e-02\n",
      "    -1.49107792e-02 -1.84561313e-03]\n",
      "   [-9.24754904e-05 -1.11622785e-02 -7.92602951e-03 ... -4.04214874e-03\n",
      "    -5.39572173e-03 -6.85861372e-03]\n",
      "   ...\n",
      "   [-2.63895539e-03 -3.31069609e-03 -1.13879070e-02 ...  2.21913516e-03\n",
      "     1.62869905e-03 -9.60006628e-03]\n",
      "   [ 8.15161918e-04  1.08151937e-02 -1.50679509e-02 ... -1.35889580e-02\n",
      "    -7.86798659e-03 -1.53319303e-02]\n",
      "   [ 7.83055892e-03 -2.26223310e-02 -5.21707569e-03 ... -2.48842708e-03\n",
      "     2.79921828e-02 -3.99679229e-03]]\n",
      "\n",
      "  [[-1.85082425e-03 -4.84669023e-03  1.83481759e-03 ... -3.00344769e-03\n",
      "     8.13720376e-03 -1.70410219e-03]\n",
      "   [-1.36512466e-02  7.64099227e-04  9.25952919e-03 ...  1.81070750e-03\n",
      "    -1.13452516e-02 -8.80478503e-03]\n",
      "   [ 4.87649292e-03 -7.55531271e-03 -1.77679434e-02 ...  5.06051754e-03\n",
      "     1.19805670e-02 -2.07213329e-03]\n",
      "   ...\n",
      "   [ 2.09528177e-03  6.94129706e-03  1.51226943e-02 ... -4.86095616e-03\n",
      "    -9.37145141e-03 -3.46903654e-03]\n",
      "   [ 1.06224181e-02 -4.79099377e-03  1.22307747e-02 ... -2.22806956e-03\n",
      "    -8.54019902e-03  9.63941229e-03]\n",
      "   [-1.13187103e-02  1.20314393e-02  2.74120674e-03 ... -4.22417163e-03\n",
      "    -2.19513389e-04  1.82541059e-03]]]]\n",
      "Bias:\n",
      "(1, 1, 1, 64)\n",
      "[[[[0. 0. 0. 0. 0. 0. 0. 0. 0. 0. 0. 0. 0. 0. 0. 0. 0. 0. 0. 0. 0. 0.\n",
      "    0. 0. 0. 0. 0. 0. 0. 0. 0. 0. 0. 0. 0. 0. 0. 0. 0. 0. 0. 0. 0. 0.\n",
      "    0. 0. 0. 0. 0. 0. 0. 0. 0. 0. 0. 0. 0. 0. 0. 0. 0. 0. 0. 0.]]]]\n"
     ]
    }
   ],
   "source": [
    "arch = {\n",
    "    'Conv1': Conv2D(in_channels=1, out_channels=32, kernel_size=(3, 3), stride=(1, 1), padding=(1, 1), name='Conv1'),\n",
    "    'MaxPool1': MaxPool2D(kernel_size=(2, 2), stride=(2, 2), mode='max'),\n",
    "    'Conv2': Conv2D(in_channels=32, out_channels=64, kernel_size=(3, 3), stride=(1, 1), padding=(1, 1), name='Conv2'),\n",
    "    'MaxPool2': MaxPool2D(kernel_size=(2, 2), stride=(2, 2), mode='max'),\n",
    "    'FC1': FC(input_size=3136, output_size=128, name='FC1'),\n",
    "    'Activation1': get_activation('relu'),\n",
    "    'FC2': FC(input_size=128, output_size=64, name='FC2'),\n",
    "    'Activation2': get_activation('relu'),\n",
    "    'FC3': FC(input_size=64, output_size=1, name='FC3'),\n",
    "    'Activation3': get_activation('sigmoid'),  # Use sigmoid activation for binary classification\n",
    "}"
   ],
   "metadata": {
    "collapsed": false,
    "pycharm": {
     "name": "#%%\n"
    }
   }
  },
  {
   "cell_type": "markdown",
   "source": [
    "#### Create the criterion (loss) function"
   ],
   "metadata": {
    "collapsed": false,
    "pycharm": {
     "name": "#%% md\n"
    }
   }
  },
  {
   "cell_type": "code",
   "execution_count": 103,
   "outputs": [],
   "source": [
    "criterion = BinaryCrossEntropy()"
   ],
   "metadata": {
    "collapsed": false,
    "pycharm": {
     "name": "#%%\n"
    }
   }
  },
  {
   "cell_type": "markdown",
   "source": [
    "#### Create the optimizer"
   ],
   "metadata": {
    "collapsed": false,
    "pycharm": {
     "name": "#%% md\n"
    }
   }
  },
  {
   "cell_type": "code",
   "execution_count": 104,
   "outputs": [],
   "source": [
    "optimizer = Adam(arch, learning_rate=0.001, beta1=0.9, beta2=0.999, epsilon=1e-8)\n"
   ],
   "metadata": {
    "collapsed": false,
    "pycharm": {
     "name": "#%%\n"
    }
   }
  },
  {
   "cell_type": "markdown",
   "source": [
    "#### Creating Model"
   ],
   "metadata": {
    "collapsed": false,
    "pycharm": {
     "name": "#%% md\n"
    }
   }
  },
  {
   "cell_type": "code",
   "execution_count": 105,
   "outputs": [],
   "source": [
    "model = Model(arch, criterion, optimizer)"
   ],
   "metadata": {
    "collapsed": false,
    "pycharm": {
     "name": "#%%\n"
    }
   }
  },
  {
   "cell_type": "code",
   "execution_count": null,
   "outputs": [],
   "source": [],
   "metadata": {
    "collapsed": false,
    "pycharm": {
     "name": "#%%\n"
    }
   }
  }
 ],
 "metadata": {
  "kernelspec": {
   "display_name": "Python 3",
   "language": "python",
   "name": "python3"
  },
  "language_info": {
   "codemirror_mode": {
    "name": "ipython",
    "version": 2
   },
   "file_extension": ".py",
   "mimetype": "text/x-python",
   "name": "python",
   "nbconvert_exporter": "python",
   "pygments_lexer": "ipython2",
   "version": "2.7.6"
  }
 },
 "nbformat": 4,
 "nbformat_minor": 0
}